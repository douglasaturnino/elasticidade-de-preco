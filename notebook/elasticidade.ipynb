{
 "cells": [
  {
   "cell_type": "markdown",
   "metadata": {},
   "source": [
    "# 0.0 Imports"
   ]
  },
  {
   "cell_type": "code",
   "execution_count": 44,
   "metadata": {},
   "outputs": [],
   "source": [
    "import os\n",
    "\n",
    "import pandas as pd\n",
    "import numpy as np\n",
    "import inflection\n"
   ]
  },
  {
   "cell_type": "markdown",
   "metadata": {},
   "source": [
    "## 0.1 Load Data"
   ]
  },
  {
   "cell_type": "code",
   "execution_count": 45,
   "metadata": {},
   "outputs": [],
   "source": [
    "path = os.path.dirname(os.getcwd())\n",
    "path_dataset = os.path.join(path, 'data', 'df_ready.csv')\n",
    "df = pd.read_csv(path_dataset)"
   ]
  },
  {
   "cell_type": "markdown",
   "metadata": {},
   "source": [
    "## 0.2 Help function"
   ]
  },
  {
   "cell_type": "code",
   "execution_count": 46,
   "metadata": {},
   "outputs": [],
   "source": [
    "def snakecase(x):\n",
    "    return inflection.underscore(x)"
   ]
  },
  {
   "cell_type": "markdown",
   "metadata": {},
   "source": [
    "# 1.0 Descrição dos dados"
   ]
  },
  {
   "cell_type": "code",
   "execution_count": 47,
   "metadata": {},
   "outputs": [],
   "source": [
    "df1 = df.copy()"
   ]
  },
  {
   "cell_type": "markdown",
   "metadata": {},
   "source": [
    "# 1.1 Data dimensions"
   ]
  },
  {
   "cell_type": "code",
   "execution_count": 48,
   "metadata": {},
   "outputs": [
    {
     "name": "stdout",
     "output_type": "stream",
     "text": [
      "Number of rows: 23151\n",
      "Number of columns: 32\n"
     ]
    }
   ],
   "source": [
    "print(f'Number of rows: {df1.shape[0]}' )\n",
    "print(f'Number of columns: {df1.shape[1]}' )\n"
   ]
  },
  {
   "cell_type": "markdown",
   "metadata": {},
   "source": [
    "## 1.2 Data types"
   ]
  },
  {
   "cell_type": "code",
   "execution_count": 49,
   "metadata": {},
   "outputs": [
    {
     "data": {
      "text/plain": [
       "Unnamed: 0           int64\n",
       "Date_imp            object\n",
       "Date_imp_d          object\n",
       "Cluster              int64\n",
       "Category_name       object\n",
       "name                object\n",
       "price              float64\n",
       "disc_price         float64\n",
       "merchant            object\n",
       "condition           object\n",
       "Disc_percentage    float64\n",
       "isSale              object\n",
       "Imp_count            int64\n",
       "brand               object\n",
       "p_description       object\n",
       "currency            object\n",
       "dateAdded           object\n",
       "dateSeen            object\n",
       "dateUpdated         object\n",
       "imageURLs           object\n",
       "manufacturer        object\n",
       "shipping            object\n",
       "sourceURLs          object\n",
       "weight              object\n",
       "Date_imp_d.1        object\n",
       "Day_n               object\n",
       "month                int64\n",
       "month_n             object\n",
       "day                  int64\n",
       "Week_Number          int64\n",
       "Zscore_1           float64\n",
       "price_std          float64\n",
       "dtype: object"
      ]
     },
     "execution_count": 49,
     "metadata": {},
     "output_type": "execute_result"
    }
   ],
   "source": [
    "df1.dtypes"
   ]
  },
  {
   "cell_type": "markdown",
   "metadata": {},
   "source": [
    "## 1.3 Check NA"
   ]
  },
  {
   "cell_type": "code",
   "execution_count": 50,
   "metadata": {},
   "outputs": [
    {
     "data": {
      "text/plain": [
       "Unnamed: 0             0\n",
       "Date_imp               0\n",
       "Date_imp_d             0\n",
       "Cluster                0\n",
       "Category_name          0\n",
       "name                   0\n",
       "price                  0\n",
       "disc_price             0\n",
       "merchant               0\n",
       "condition              0\n",
       "Disc_percentage        0\n",
       "isSale                 0\n",
       "Imp_count              0\n",
       "brand                  0\n",
       "p_description          0\n",
       "currency               0\n",
       "dateAdded              0\n",
       "dateSeen               0\n",
       "dateUpdated            0\n",
       "imageURLs          22696\n",
       "manufacturer       10639\n",
       "shipping           11497\n",
       "sourceURLs          4930\n",
       "weight                68\n",
       "Date_imp_d.1           0\n",
       "Day_n                  0\n",
       "month                  0\n",
       "month_n                0\n",
       "day                    0\n",
       "Week_Number            0\n",
       "Zscore_1             171\n",
       "price_std              0\n",
       "dtype: int64"
      ]
     },
     "execution_count": 50,
     "metadata": {},
     "output_type": "execute_result"
    }
   ],
   "source": [
    "df1.isna().sum()"
   ]
  },
  {
   "cell_type": "code",
   "execution_count": 51,
   "metadata": {},
   "outputs": [
    {
     "data": {
      "text/plain": [
       "Index(['Unnamed: 0', 'Date_imp', 'Date_imp_d', 'Cluster', 'Category_name',\n",
       "       'name', 'price', 'disc_price', 'merchant', 'condition',\n",
       "       'Disc_percentage', 'isSale', 'Imp_count', 'brand', 'p_description',\n",
       "       'currency', 'dateAdded', 'dateSeen', 'dateUpdated', 'imageURLs',\n",
       "       'manufacturer', 'shipping', 'sourceURLs', 'weight', 'Date_imp_d.1',\n",
       "       'Day_n', 'month', 'month_n', 'day', 'Week_Number', 'Zscore_1',\n",
       "       'price_std'],\n",
       "      dtype='object')"
      ]
     },
     "execution_count": 51,
     "metadata": {},
     "output_type": "execute_result"
    }
   ],
   "source": [
    "df1.columns"
   ]
  },
  {
   "cell_type": "code",
   "execution_count": 52,
   "metadata": {},
   "outputs": [],
   "source": [
    "df1 = df1.drop(columns=['Unnamed: 0', 'Date_imp', 'Cluster', 'condition',\n",
    "                         'Date_imp_d', 'Zscore_1', 'price_std', 'imageURLs', \n",
    "                         'shipping', 'weight', 'currency'])"
   ]
  },
  {
   "cell_type": "code",
   "execution_count": 53,
   "metadata": {},
   "outputs": [],
   "source": [
    "cols_new = list(map(snakecase, df1.columns))\n",
    "df1.columns = cols_new\n",
    "df1['date_imp'] = df1['date_imp_d.1']"
   ]
  },
  {
   "cell_type": "markdown",
   "metadata": {},
   "source": [
    "## 1.5 Changer Types"
   ]
  },
  {
   "cell_type": "code",
   "execution_count": 54,
   "metadata": {},
   "outputs": [],
   "source": [
    "df1['date_imp'] = pd.to_datetime(df1['date_imp'])"
   ]
  },
  {
   "cell_type": "markdown",
   "metadata": {},
   "source": [
    "## 1.7 Descriptive Statistics"
   ]
  },
  {
   "cell_type": "code",
   "execution_count": 55,
   "metadata": {},
   "outputs": [],
   "source": [
    "num_attributes = df1.select_dtypes(include=['float', 'int64'])\n",
    "cat_attributes = df1.select_dtypes(exclude=['float', 'int64', 'datetime64[ns]'])\n"
   ]
  },
  {
   "cell_type": "markdown",
   "metadata": {},
   "source": [
    "## 1.7.1 Numerical atributes"
   ]
  },
  {
   "cell_type": "code",
   "execution_count": 56,
   "metadata": {},
   "outputs": [
    {
     "data": {
      "text/html": [
       "<div>\n",
       "<style scoped>\n",
       "    .dataframe tbody tr th:only-of-type {\n",
       "        vertical-align: middle;\n",
       "    }\n",
       "\n",
       "    .dataframe tbody tr th {\n",
       "        vertical-align: top;\n",
       "    }\n",
       "\n",
       "    .dataframe thead th {\n",
       "        text-align: right;\n",
       "    }\n",
       "</style>\n",
       "<table border=\"1\" class=\"dataframe\">\n",
       "  <thead>\n",
       "    <tr style=\"text-align: right;\">\n",
       "      <th></th>\n",
       "      <th>attributes</th>\n",
       "      <th>min</th>\n",
       "      <th>max</th>\n",
       "      <th>range</th>\n",
       "      <th>mean</th>\n",
       "      <th>median</th>\n",
       "      <th>std</th>\n",
       "      <th>skew</th>\n",
       "      <th>kurtosis</th>\n",
       "    </tr>\n",
       "  </thead>\n",
       "  <tbody>\n",
       "    <tr>\n",
       "      <th>0</th>\n",
       "      <td>price</td>\n",
       "      <td>1.0</td>\n",
       "      <td>10879.95</td>\n",
       "      <td>10878.95</td>\n",
       "      <td>513.037803</td>\n",
       "      <td>199.99</td>\n",
       "      <td>859.091448</td>\n",
       "      <td>4.595160</td>\n",
       "      <td>34.411146</td>\n",
       "    </tr>\n",
       "    <tr>\n",
       "      <th>1</th>\n",
       "      <td>disc_price</td>\n",
       "      <td>1.0</td>\n",
       "      <td>10879.95</td>\n",
       "      <td>10878.95</td>\n",
       "      <td>494.104295</td>\n",
       "      <td>199.00</td>\n",
       "      <td>808.571509</td>\n",
       "      <td>4.748349</td>\n",
       "      <td>39.612839</td>\n",
       "    </tr>\n",
       "    <tr>\n",
       "      <th>2</th>\n",
       "      <td>disc_percentage</td>\n",
       "      <td>0.0</td>\n",
       "      <td>0.80</td>\n",
       "      <td>0.80</td>\n",
       "      <td>0.016933</td>\n",
       "      <td>0.00</td>\n",
       "      <td>0.077847</td>\n",
       "      <td>5.217632</td>\n",
       "      <td>28.754920</td>\n",
       "    </tr>\n",
       "    <tr>\n",
       "      <th>3</th>\n",
       "      <td>imp_count</td>\n",
       "      <td>1.0</td>\n",
       "      <td>31.00</td>\n",
       "      <td>30.00</td>\n",
       "      <td>6.560926</td>\n",
       "      <td>5.00</td>\n",
       "      <td>5.403049</td>\n",
       "      <td>1.286351</td>\n",
       "      <td>1.639569</td>\n",
       "    </tr>\n",
       "    <tr>\n",
       "      <th>4</th>\n",
       "      <td>month</td>\n",
       "      <td>1.0</td>\n",
       "      <td>12.00</td>\n",
       "      <td>11.00</td>\n",
       "      <td>7.651030</td>\n",
       "      <td>8.00</td>\n",
       "      <td>2.592787</td>\n",
       "      <td>-0.099417</td>\n",
       "      <td>-0.628859</td>\n",
       "    </tr>\n",
       "    <tr>\n",
       "      <th>5</th>\n",
       "      <td>day</td>\n",
       "      <td>1.0</td>\n",
       "      <td>31.00</td>\n",
       "      <td>30.00</td>\n",
       "      <td>15.693879</td>\n",
       "      <td>16.00</td>\n",
       "      <td>9.681413</td>\n",
       "      <td>0.032258</td>\n",
       "      <td>-1.331838</td>\n",
       "    </tr>\n",
       "    <tr>\n",
       "      <th>6</th>\n",
       "      <td>week_number</td>\n",
       "      <td>1.0</td>\n",
       "      <td>51.00</td>\n",
       "      <td>50.00</td>\n",
       "      <td>31.342750</td>\n",
       "      <td>32.00</td>\n",
       "      <td>11.316253</td>\n",
       "      <td>-0.266980</td>\n",
       "      <td>-0.648027</td>\n",
       "    </tr>\n",
       "  </tbody>\n",
       "</table>\n",
       "</div>"
      ],
      "text/plain": [
       "        attributes  min       max     range        mean  median         std  \\\n",
       "0            price  1.0  10879.95  10878.95  513.037803  199.99  859.091448   \n",
       "1       disc_price  1.0  10879.95  10878.95  494.104295  199.00  808.571509   \n",
       "2  disc_percentage  0.0      0.80      0.80    0.016933    0.00    0.077847   \n",
       "3        imp_count  1.0     31.00     30.00    6.560926    5.00    5.403049   \n",
       "4            month  1.0     12.00     11.00    7.651030    8.00    2.592787   \n",
       "5              day  1.0     31.00     30.00   15.693879   16.00    9.681413   \n",
       "6      week_number  1.0     51.00     50.00   31.342750   32.00   11.316253   \n",
       "\n",
       "       skew   kurtosis  \n",
       "0  4.595160  34.411146  \n",
       "1  4.748349  39.612839  \n",
       "2  5.217632  28.754920  \n",
       "3  1.286351   1.639569  \n",
       "4 -0.099417  -0.628859  \n",
       "5  0.032258  -1.331838  \n",
       "6 -0.266980  -0.648027  "
      ]
     },
     "execution_count": 56,
     "metadata": {},
     "output_type": "execute_result"
    }
   ],
   "source": [
    "# Central Tendency - mean, median\n",
    "ct1 = pd.DataFrame(num_attributes.apply(np.mean)).T\n",
    "ct2 = pd.DataFrame(num_attributes.apply(np.median)).T\n",
    "\n",
    "# Dispersion - sdt, min, max, range, skew, kurtosis\n",
    "\n",
    "d1 = pd.DataFrame( num_attributes.apply(np.std)).T\n",
    "d2 = pd.DataFrame( num_attributes.apply(np.min)).T\n",
    "d3 = pd.DataFrame( num_attributes.apply(np.max)).T\n",
    "d4 = pd.DataFrame( num_attributes.apply(lambda x: x.max() - x.min())).T\n",
    "d5 = pd.DataFrame( num_attributes.apply(lambda x: x.skew())).T\n",
    "d6 = pd.DataFrame( num_attributes.apply(lambda x: x.kurtosis())).T\n",
    "\n",
    "m = pd.concat([d2, d3, d4, ct1, ct2, d1, d5, d6]).T.reset_index()\n",
    "m.columns = ['attributes','min','max','range','mean','median','std','skew','kurtosis']\n",
    "m"
   ]
  }
 ],
 "metadata": {
  "kernelspec": {
   "display_name": ".venv",
   "language": "python",
   "name": "python3"
  },
  "language_info": {
   "codemirror_mode": {
    "name": "ipython",
    "version": 3
   },
   "file_extension": ".py",
   "mimetype": "text/x-python",
   "name": "python",
   "nbconvert_exporter": "python",
   "pygments_lexer": "ipython3",
   "version": "3.12.3"
  }
 },
 "nbformat": 4,
 "nbformat_minor": 2
}
